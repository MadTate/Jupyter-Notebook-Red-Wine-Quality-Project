{
 "cells": [
  {
   "cell_type": "code",
   "execution_count": 24,
   "id": "78f272b9",
   "metadata": {},
   "outputs": [],
   "source": [
    "#import libraries\n",
    "import pandas as pd\n",
    "import numpy as np\n",
    "import matplotlib.pyplot as plt\n",
    "import os\n",
    "import seaborn as sns\n",
    "from sklearn.preprocessing import OneHotEncoder\n",
    "%matplotlib inline\n",
    "\n",
    "from sklearn.datasets import make_blobs\n",
    "from sklearn.linear_model import LogisticRegression\n",
    "from sklearn.model_selection import train_test_split\n",
    "from sklearn.model_selection import cross_val_score\n",
    "from sklearn.svm import SVC"
   ]
  },
  {
   "cell_type": "code",
   "execution_count": 25,
   "id": "b0b1b708",
   "metadata": {},
   "outputs": [],
   "source": [
    "red = pd.read_csv('C:\\\\Modeling Machine Learning\\\\red wine quality data.csv')\n",
    "logreg = LogisticRegression()"
   ]
  },
  {
   "cell_type": "code",
   "execution_count": 28,
   "id": "c99344dd",
   "metadata": {},
   "outputs": [],
   "source": [
    "#Change the data from objects to float64\n",
    "red[\"fixed acidity\"] = red[\"fixed acidity\"].replace(',', '').astype(float)\n",
    "red[\"volatile acidity\"] = red[\"volatile acidity\"].replace(',', '').astype(float)\n",
    "red[\"citric acid\"] = red[\"citric acid\"].replace(',', '').astype(float)\n",
    "red[\"residual sugar\"] = red[\"residual sugar\"].replace(',', '').astype(float)\n",
    "red[\"chlorides\"] = red[\"chlorides\"].replace(',', '').astype(float)\n",
    "red[\"free sulfur dioxide\"] = red[\"free sulfur dioxide\"].replace(',', '').astype(float)\n",
    "red[\"total sulfur dioxide\"] = red[\"total sulfur dioxide\"].replace(',', '').astype(float)\n",
    "red[\"density\"] = red[\"density\"].replace(',', '').astype(float)\n",
    "red[\"pH\"] = red[\"pH\"].replace(',', '').astype(float)\n",
    "red[\"sulphates\"] = red[\"sulphates\"].replace(',', '').astype(float)\n",
    "red[\"alcohol\"] = red[\"alcohol\"].replace(',', '').astype(float)\n",
    "red[\"quality\"] = red[\"quality\"].replace(',', '').astype(int)"
   ]
  },
  {
   "cell_type": "code",
   "execution_count": 29,
   "id": "4c4e7065",
   "metadata": {},
   "outputs": [
    {
     "data": {
      "text/plain": [
       "5    681\n",
       "6    638\n",
       "7    199\n",
       "4     53\n",
       "8     18\n",
       "3     10\n",
       "Name: quality, dtype: int64"
      ]
     },
     "execution_count": 29,
     "metadata": {},
     "output_type": "execute_result"
    }
   ],
   "source": [
    "#showing counts before categorize quality column\n",
    "red['quality'].value_counts()"
   ]
  },
  {
   "cell_type": "code",
   "execution_count": 30,
   "id": "c3edc96e",
   "metadata": {},
   "outputs": [],
   "source": [
    "#categorize wine quality\n",
    "bins = (2,6.5,8)\n",
    "group_names = ['bad','good']\n",
    "categories = pd.cut(red['quality'], bins, labels = group_names)\n",
    "red['quality'] = categories"
   ]
  },
  {
   "cell_type": "code",
   "execution_count": 31,
   "id": "af2acb12",
   "metadata": {},
   "outputs": [
    {
     "data": {
      "text/plain": [
       "bad     1382\n",
       "good     217\n",
       "Name: quality, dtype: int64"
      ]
     },
     "execution_count": 31,
     "metadata": {},
     "output_type": "execute_result"
    }
   ],
   "source": [
    "#after categorize\n",
    "red['quality'].value_counts()"
   ]
  },
  {
   "cell_type": "code",
   "execution_count": 32,
   "id": "4506e145",
   "metadata": {},
   "outputs": [],
   "source": [
    "#splitting data to X ve y\n",
    "X = red.drop(['quality'], axis = 1)\n",
    "y = red['quality']\n",
    "\n",
    "# Encoding our dependent variable:Quality column\n",
    "from sklearn.preprocessing import LabelEncoder\n",
    "labelencoder_y = LabelEncoder()\n",
    "y = labelencoder_y.fit_transform(y)\n",
    "y\n",
    "\n",
    "# Splitting the dataset into the Training set and Test set.%20 of dataset for test set,%80 for training set.\n",
    "X_train, X_test, y_train, y_test = train_test_split(X, y, test_size = 0.2, random_state = 0)\n",
    "\n",
    "# Feature Scaling to X_train and X_test to classify better.\n",
    "from sklearn.preprocessing import StandardScaler\n",
    "sc = StandardScaler()\n",
    "X_train = sc.fit_transform(X_train)\n",
    "X_test = sc.transform(X_test)\n",
    "\n",
    "#I'll use Kernel SVM model to classify.\n",
    "# Fitting Kernel SVM to the Training set\n",
    "classifier = SVC(kernel = 'rbf', random_state = 0)\n",
    "classifier.fit(X_train, y_train)\n",
    "#Predicting the Test Set\n",
    "y_pred = classifier.predict(X_test)"
   ]
  },
  {
   "cell_type": "code",
   "execution_count": 33,
   "id": "e473e909",
   "metadata": {},
   "outputs": [
    {
     "data": {
      "text/plain": [
       "0.8772391732283464"
      ]
     },
     "execution_count": 33,
     "metadata": {},
     "output_type": "execute_result"
    }
   ],
   "source": [
    "#standard k-Fold cross validation for improving our model\n",
    "from sklearn.model_selection import cross_val_score\n",
    "accuracies = cross_val_score(estimator = classifier, X = X_train,\n",
    "                             y = y_train, cv = 10)\n",
    "#we can see model's average accuracy\n",
    "accuracies.mean()"
   ]
  },
  {
   "cell_type": "code",
   "execution_count": 34,
   "id": "edb27b30",
   "metadata": {},
   "outputs": [
    {
     "data": {
      "text/plain": [
       "0.8749088538315706"
      ]
     },
     "execution_count": 34,
     "metadata": {},
     "output_type": "execute_result"
    }
   ],
   "source": [
    "#standard k-Fold cross validation for improving our model w/ k of our choosing\n",
    "from sklearn.model_selection import cross_val_score\n",
    "accuracies = cross_val_score(estimator = classifier, X = X_train,\n",
    "                             y = y_train, cv = 7)\n",
    "#we can see model's average accuracy\n",
    "accuracies.mean()"
   ]
  }
 ],
 "metadata": {
  "kernelspec": {
   "display_name": "Python 3",
   "language": "python",
   "name": "python3"
  },
  "language_info": {
   "codemirror_mode": {
    "name": "ipython",
    "version": 3
   },
   "file_extension": ".py",
   "mimetype": "text/x-python",
   "name": "python",
   "nbconvert_exporter": "python",
   "pygments_lexer": "ipython3",
   "version": "3.8.8"
  }
 },
 "nbformat": 4,
 "nbformat_minor": 5
}
